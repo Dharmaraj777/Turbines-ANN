{
 "cells": [
  {
   "cell_type": "code",
   "execution_count": 1,
   "id": "94c2e63d",
   "metadata": {},
   "outputs": [],
   "source": [
    "import pandas as pd\n",
    "import numpy as np\n",
    "import matplotlib.pyplot as plt\n",
    "from sklearn import preprocessing\n",
    "from sklearn.preprocessing import StandardScaler\n",
    "from sklearn.model_selection import train_test_split, cross_val_score\n",
    "from sklearn.metrics import accuracy_score\n",
    "\n",
    "from sklearn.decomposition import PCA\n",
    "\n",
    "import keras\n",
    "from keras.models import Sequential\n",
    "from keras.layers import Dense\n",
    "from keras.wrappers.scikit_learn import KerasClassifier\n",
    "from sklearn.model_selection import GridSearchCV, KFold\n",
    "from tensorflow.keras.optimizers import Adam\n",
    "from keras.layers import Flatten\n",
    "from keras.layers import Dropout\n",
    "\n",
    "import warnings\n",
    "warnings.filterwarnings(\"ignore\")"
   ]
  },
  {
   "cell_type": "code",
   "execution_count": 2,
   "id": "97c89d2f",
   "metadata": {},
   "outputs": [],
   "source": [
    "gas_turbines = pd.read_csv('D:/DS Assignments/NN/gas_turbines.csv')"
   ]
  },
  {
   "cell_type": "code",
   "execution_count": 3,
   "id": "6210efae",
   "metadata": {},
   "outputs": [
    {
     "data": {
      "text/html": [
       "<div>\n",
       "<style scoped>\n",
       "    .dataframe tbody tr th:only-of-type {\n",
       "        vertical-align: middle;\n",
       "    }\n",
       "\n",
       "    .dataframe tbody tr th {\n",
       "        vertical-align: top;\n",
       "    }\n",
       "\n",
       "    .dataframe thead th {\n",
       "        text-align: right;\n",
       "    }\n",
       "</style>\n",
       "<table border=\"1\" class=\"dataframe\">\n",
       "  <thead>\n",
       "    <tr style=\"text-align: right;\">\n",
       "      <th></th>\n",
       "      <th>AT</th>\n",
       "      <th>AP</th>\n",
       "      <th>AH</th>\n",
       "      <th>AFDP</th>\n",
       "      <th>GTEP</th>\n",
       "      <th>TIT</th>\n",
       "      <th>TAT</th>\n",
       "      <th>CDP</th>\n",
       "      <th>CO</th>\n",
       "      <th>NOX</th>\n",
       "      <th>TEY</th>\n",
       "    </tr>\n",
       "  </thead>\n",
       "  <tbody>\n",
       "    <tr>\n",
       "      <th>0</th>\n",
       "      <td>6.8594</td>\n",
       "      <td>1007.9</td>\n",
       "      <td>96.799</td>\n",
       "      <td>3.5000</td>\n",
       "      <td>19.663</td>\n",
       "      <td>1059.2</td>\n",
       "      <td>550.00</td>\n",
       "      <td>10.605</td>\n",
       "      <td>3.1547</td>\n",
       "      <td>82.722</td>\n",
       "      <td>114.70</td>\n",
       "    </tr>\n",
       "    <tr>\n",
       "      <th>1</th>\n",
       "      <td>6.7850</td>\n",
       "      <td>1008.4</td>\n",
       "      <td>97.118</td>\n",
       "      <td>3.4998</td>\n",
       "      <td>19.728</td>\n",
       "      <td>1059.3</td>\n",
       "      <td>550.00</td>\n",
       "      <td>10.598</td>\n",
       "      <td>3.2363</td>\n",
       "      <td>82.776</td>\n",
       "      <td>114.72</td>\n",
       "    </tr>\n",
       "    <tr>\n",
       "      <th>2</th>\n",
       "      <td>6.8977</td>\n",
       "      <td>1008.8</td>\n",
       "      <td>95.939</td>\n",
       "      <td>3.4824</td>\n",
       "      <td>19.779</td>\n",
       "      <td>1059.4</td>\n",
       "      <td>549.87</td>\n",
       "      <td>10.601</td>\n",
       "      <td>3.2012</td>\n",
       "      <td>82.468</td>\n",
       "      <td>114.71</td>\n",
       "    </tr>\n",
       "    <tr>\n",
       "      <th>3</th>\n",
       "      <td>7.0569</td>\n",
       "      <td>1009.2</td>\n",
       "      <td>95.249</td>\n",
       "      <td>3.4805</td>\n",
       "      <td>19.792</td>\n",
       "      <td>1059.6</td>\n",
       "      <td>549.99</td>\n",
       "      <td>10.606</td>\n",
       "      <td>3.1923</td>\n",
       "      <td>82.670</td>\n",
       "      <td>114.72</td>\n",
       "    </tr>\n",
       "    <tr>\n",
       "      <th>4</th>\n",
       "      <td>7.3978</td>\n",
       "      <td>1009.7</td>\n",
       "      <td>95.150</td>\n",
       "      <td>3.4976</td>\n",
       "      <td>19.765</td>\n",
       "      <td>1059.7</td>\n",
       "      <td>549.98</td>\n",
       "      <td>10.612</td>\n",
       "      <td>3.2484</td>\n",
       "      <td>82.311</td>\n",
       "      <td>114.72</td>\n",
       "    </tr>\n",
       "  </tbody>\n",
       "</table>\n",
       "</div>"
      ],
      "text/plain": [
       "       AT      AP      AH    AFDP    GTEP     TIT     TAT     CDP      CO  \\\n",
       "0  6.8594  1007.9  96.799  3.5000  19.663  1059.2  550.00  10.605  3.1547   \n",
       "1  6.7850  1008.4  97.118  3.4998  19.728  1059.3  550.00  10.598  3.2363   \n",
       "2  6.8977  1008.8  95.939  3.4824  19.779  1059.4  549.87  10.601  3.2012   \n",
       "3  7.0569  1009.2  95.249  3.4805  19.792  1059.6  549.99  10.606  3.1923   \n",
       "4  7.3978  1009.7  95.150  3.4976  19.765  1059.7  549.98  10.612  3.2484   \n",
       "\n",
       "      NOX     TEY  \n",
       "0  82.722  114.70  \n",
       "1  82.776  114.72  \n",
       "2  82.468  114.71  \n",
       "3  82.670  114.72  \n",
       "4  82.311  114.72  "
      ]
     },
     "execution_count": 3,
     "metadata": {},
     "output_type": "execute_result"
    }
   ],
   "source": [
    "gas_turbines.head()"
   ]
  },
  {
   "cell_type": "code",
   "execution_count": 4,
   "id": "13e78a1d",
   "metadata": {},
   "outputs": [],
   "source": [
    "X = gas_turbines.iloc[:,0:10].values"
   ]
  },
  {
   "cell_type": "code",
   "execution_count": 5,
   "id": "b0b86164",
   "metadata": {},
   "outputs": [],
   "source": [
    "y = gas_turbines.iloc[:,10].values"
   ]
  },
  {
   "cell_type": "code",
   "execution_count": 6,
   "id": "01dae2aa",
   "metadata": {},
   "outputs": [],
   "source": [
    "a = StandardScaler()\n",
    "a.fit(X)\n",
    "X = a.transform(X)"
   ]
  },
  {
   "cell_type": "code",
   "execution_count": 7,
   "id": "72e717be",
   "metadata": {},
   "outputs": [],
   "source": [
    "X_train, X_test, y_train, y_test = train_test_split(X,y, test_size = 0.2, random_state = 12345)\n",
    "X_train, X_val, y_train, y_val = train_test_split(X, y, test_size = 0.2, random_state = 0)"
   ]
  },
  {
   "cell_type": "code",
   "execution_count": 8,
   "id": "7a55baa8",
   "metadata": {},
   "outputs": [
    {
     "data": {
      "text/plain": [
       "((12031, 10), (12031,), (3008, 10), (3008,))"
      ]
     },
     "execution_count": 8,
     "metadata": {},
     "output_type": "execute_result"
    }
   ],
   "source": [
    "X_train.shape, y_train.shape, X_test.shape, y_test.shape"
   ]
  },
  {
   "cell_type": "code",
   "execution_count": 31,
   "id": "fe0b5773",
   "metadata": {},
   "outputs": [],
   "source": [
    "    model = Sequential()\n",
    "    model.add(Flatten())\n",
    "    model.add(Dense(8,input_dim = X.shape[1],kernel_initializer = 'uniform',activation = 'relu'))\n",
    "    model.add(Dropout(0.1))\n",
    "    model.add(Dense(6,kernel_initializer = 'uniform',activation = 'elu'))\n",
    "    model.add(Dropout(0.1))\n",
    "    model.add(Dense(1,activation = 'relu'))\n",
    "    \n",
    "    model.compile(loss = 'mean_squared_error',optimizer = 'adam',metrics = ['mae','mse','mape'])"
   ]
  },
  {
   "cell_type": "code",
   "execution_count": 32,
   "id": "2a69aaa9",
   "metadata": {},
   "outputs": [
    {
     "name": "stdout",
     "output_type": "stream",
     "text": [
      "Epoch 1/100\n",
      "121/121 [==============================] - 1s 3ms/step - loss: 18003.5938 - mae: 133.2453 - mse: 18003.5938 - mape: 99.2389 - val_loss: 17252.7734 - val_mae: 130.4044 - val_mse: 17252.7734 - val_mape: 97.3436\n",
      "Epoch 2/100\n",
      "121/121 [==============================] - 0s 3ms/step - loss: 15581.5928 - mae: 123.6871 - mse: 15581.5918 - mape: 92.0313 - val_loss: 13072.1768 - val_mae: 113.0071 - val_mse: 13072.1768 - val_mape: 84.1494\n",
      "Epoch 3/100\n",
      "121/121 [==============================] - 0s 3ms/step - loss: 10128.0801 - mae: 97.6443 - mse: 10128.0801 - mape: 72.4225 - val_loss: 6885.5610 - val_mae: 78.9752 - val_mse: 6885.5610 - val_mape: 58.4698\n",
      "Epoch 4/100\n",
      "121/121 [==============================] - 0s 3ms/step - loss: 4891.6870 - mae: 62.8134 - mse: 4891.6870 - mape: 46.6228 - val_loss: 2878.0044 - val_mae: 45.8928 - val_mse: 2878.0044 - val_mape: 34.1223\n",
      "Epoch 5/100\n",
      "121/121 [==============================] - 0s 3ms/step - loss: 2542.0986 - mae: 42.7593 - mse: 2542.0986 - mape: 31.9334 - val_loss: 1411.6558 - val_mae: 30.7121 - val_mse: 1411.6558 - val_mape: 23.0046\n",
      "Epoch 6/100\n",
      "121/121 [==============================] - 0s 3ms/step - loss: 1737.2272 - mae: 34.8597 - mse: 1737.2272 - mape: 26.0786 - val_loss: 871.8643 - val_mae: 23.9976 - val_mse: 871.8643 - val_mape: 17.9888\n",
      "Epoch 7/100\n",
      "121/121 [==============================] - 0s 2ms/step - loss: 1454.8417 - mae: 31.2374 - mse: 1454.8417 - mape: 23.3558 - val_loss: 628.8684 - val_mae: 20.1571 - val_mse: 628.8684 - val_mape: 15.0848\n",
      "Epoch 8/100\n",
      "121/121 [==============================] - 0s 2ms/step - loss: 1276.6505 - mae: 28.8844 - mse: 1276.6505 - mape: 21.6199 - val_loss: 503.5013 - val_mae: 17.7520 - val_mse: 503.5013 - val_mape: 13.2822\n",
      "Epoch 9/100\n",
      "121/121 [==============================] - 0s 2ms/step - loss: 1155.4042 - mae: 27.2388 - mse: 1155.4042 - mape: 20.3372 - val_loss: 430.8958 - val_mae: 16.1798 - val_mse: 430.8959 - val_mape: 12.1094\n",
      "Epoch 10/100\n",
      "121/121 [==============================] - 0s 2ms/step - loss: 1106.3367 - mae: 26.4461 - mse: 1106.3368 - mape: 19.7588 - val_loss: 366.8239 - val_mae: 14.6346 - val_mse: 366.8239 - val_mape: 10.9514\n",
      "Epoch 11/100\n",
      "121/121 [==============================] - 0s 2ms/step - loss: 1033.5297 - mae: 25.4678 - mse: 1033.5297 - mape: 19.0333 - val_loss: 330.9618 - val_mae: 13.7677 - val_mse: 330.9618 - val_mape: 10.2998\n",
      "Epoch 12/100\n",
      "121/121 [==============================] - 0s 2ms/step - loss: 1003.5592 - mae: 25.1477 - mse: 1003.5592 - mape: 18.7843 - val_loss: 290.2442 - val_mae: 12.7047 - val_mse: 290.2442 - val_mape: 9.5108\n",
      "Epoch 13/100\n",
      "121/121 [==============================] - 0s 2ms/step - loss: 951.7586 - mae: 24.4310 - mse: 951.7586 - mape: 18.2537 - val_loss: 263.2709 - val_mae: 11.9791 - val_mse: 263.2709 - val_mape: 8.9693\n",
      "Epoch 14/100\n",
      "121/121 [==============================] - 0s 2ms/step - loss: 916.3986 - mae: 24.0289 - mse: 916.3986 - mape: 17.9403 - val_loss: 243.0074 - val_mae: 11.4731 - val_mse: 243.0074 - val_mape: 8.6033\n",
      "Epoch 15/100\n",
      "121/121 [==============================] - 0s 3ms/step - loss: 895.5003 - mae: 23.7816 - mse: 895.5003 - mape: 17.7731 - val_loss: 230.8492 - val_mae: 11.1497 - val_mse: 230.8492 - val_mape: 8.3574\n",
      "Epoch 16/100\n",
      "121/121 [==============================] - 0s 2ms/step - loss: 887.9368 - mae: 23.4892 - mse: 887.9368 - mape: 17.5305 - val_loss: 208.4127 - val_mae: 10.5229 - val_mse: 208.4127 - val_mape: 7.9017\n",
      "Epoch 17/100\n",
      "121/121 [==============================] - 0s 2ms/step - loss: 863.1321 - mae: 23.3084 - mse: 863.1321 - mape: 17.4145 - val_loss: 188.9108 - val_mae: 9.9045 - val_mse: 188.9108 - val_mape: 7.4434\n",
      "Epoch 18/100\n",
      "121/121 [==============================] - 0s 2ms/step - loss: 836.5027 - mae: 22.9760 - mse: 836.5027 - mape: 17.1558 - val_loss: 180.6530 - val_mae: 9.7422 - val_mse: 180.6530 - val_mape: 7.3283\n",
      "Epoch 19/100\n",
      "121/121 [==============================] - 0s 2ms/step - loss: 826.7919 - mae: 22.7889 - mse: 826.7919 - mape: 17.0220 - val_loss: 169.0804 - val_mae: 9.4041 - val_mse: 169.0804 - val_mape: 7.0853\n",
      "Epoch 20/100\n",
      "121/121 [==============================] - 0s 2ms/step - loss: 803.8466 - mae: 22.4696 - mse: 803.8466 - mape: 16.7787 - val_loss: 160.0680 - val_mae: 9.1576 - val_mse: 160.0680 - val_mape: 6.9146\n",
      "Epoch 21/100\n",
      "121/121 [==============================] - 0s 2ms/step - loss: 806.0972 - mae: 22.4574 - mse: 806.0972 - mape: 16.7816 - val_loss: 157.9424 - val_mae: 9.1802 - val_mse: 157.9424 - val_mape: 6.9177\n",
      "Epoch 22/100\n",
      "121/121 [==============================] - 0s 2ms/step - loss: 773.1564 - mae: 22.0393 - mse: 773.1564 - mape: 16.4561 - val_loss: 141.4828 - val_mae: 8.6123 - val_mse: 141.4828 - val_mape: 6.5062\n",
      "Epoch 23/100\n",
      "121/121 [==============================] - 0s 2ms/step - loss: 784.5197 - mae: 22.0951 - mse: 784.5197 - mape: 16.4934 - val_loss: 133.3282 - val_mae: 8.3528 - val_mse: 133.3282 - val_mape: 6.2994\n",
      "Epoch 24/100\n",
      "121/121 [==============================] - 0s 2ms/step - loss: 777.2358 - mae: 21.9944 - mse: 777.2358 - mape: 16.4084 - val_loss: 129.9849 - val_mae: 8.3377 - val_mse: 129.9849 - val_mape: 6.2983\n",
      "Epoch 25/100\n",
      "121/121 [==============================] - 0s 2ms/step - loss: 773.1907 - mae: 21.8921 - mse: 773.1907 - mape: 16.3682 - val_loss: 115.0120 - val_mae: 7.6758 - val_mse: 115.0120 - val_mape: 5.7894\n",
      "Epoch 26/100\n",
      "121/121 [==============================] - 0s 3ms/step - loss: 742.5666 - mae: 21.6071 - mse: 742.5666 - mape: 16.1480 - val_loss: 109.7325 - val_mae: 7.5508 - val_mse: 109.7325 - val_mape: 5.7020\n",
      "Epoch 27/100\n",
      "121/121 [==============================] - 0s 3ms/step - loss: 742.2048 - mae: 21.5563 - mse: 742.2048 - mape: 16.1183 - val_loss: 105.8329 - val_mae: 7.5452 - val_mse: 105.8329 - val_mape: 5.6945\n",
      "Epoch 28/100\n",
      "121/121 [==============================] - 0s 2ms/step - loss: 728.5344 - mae: 21.3600 - mse: 728.5344 - mape: 15.9572 - val_loss: 85.3855 - val_mae: 6.6067 - val_mse: 85.3855 - val_mape: 5.0163\n",
      "Epoch 29/100\n",
      "121/121 [==============================] - 0s 3ms/step - loss: 706.4478 - mae: 21.0084 - mse: 706.4478 - mape: 15.6930 - val_loss: 80.3202 - val_mae: 6.4259 - val_mse: 80.3202 - val_mape: 4.8972\n",
      "Epoch 30/100\n",
      "121/121 [==============================] - 0s 3ms/step - loss: 710.4373 - mae: 21.0485 - mse: 710.4373 - mape: 15.7143 - val_loss: 73.4902 - val_mae: 6.0883 - val_mse: 73.4902 - val_mape: 4.6239\n",
      "Epoch 31/100\n",
      "121/121 [==============================] - 0s 3ms/step - loss: 691.5846 - mae: 20.9257 - mse: 691.5846 - mape: 15.6321 - val_loss: 79.2594 - val_mae: 6.7198 - val_mse: 79.2594 - val_mape: 5.0679\n",
      "Epoch 32/100\n",
      "121/121 [==============================] - 0s 2ms/step - loss: 673.7141 - mae: 20.5084 - mse: 673.7141 - mape: 15.3070 - val_loss: 66.8738 - val_mae: 6.0298 - val_mse: 66.8738 - val_mape: 4.5805\n",
      "Epoch 33/100\n",
      "121/121 [==============================] - 0s 3ms/step - loss: 669.0903 - mae: 20.4654 - mse: 669.0903 - mape: 15.2899 - val_loss: 64.3697 - val_mae: 6.1112 - val_mse: 64.3697 - val_mape: 4.6004\n",
      "Epoch 34/100\n",
      "121/121 [==============================] - 0s 2ms/step - loss: 650.3867 - mae: 20.2280 - mse: 650.3867 - mape: 15.1087 - val_loss: 48.3100 - val_mae: 5.0758 - val_mse: 48.3100 - val_mape: 3.8572\n",
      "Epoch 35/100\n",
      "121/121 [==============================] - 0s 3ms/step - loss: 652.6714 - mae: 20.1683 - mse: 652.6714 - mape: 15.0840 - val_loss: 47.7141 - val_mae: 5.3513 - val_mse: 47.7141 - val_mape: 4.0614\n",
      "Epoch 36/100\n",
      "121/121 [==============================] - 0s 2ms/step - loss: 608.0486 - mae: 19.5142 - mse: 608.0486 - mape: 14.6002 - val_loss: 48.2197 - val_mae: 5.5029 - val_mse: 48.2197 - val_mape: 4.1616\n",
      "Epoch 37/100\n",
      "121/121 [==============================] - 0s 3ms/step - loss: 618.4670 - mae: 19.6069 - mse: 618.4670 - mape: 14.6760 - val_loss: 42.8936 - val_mae: 5.2110 - val_mse: 42.8936 - val_mape: 3.9466\n",
      "Epoch 38/100\n",
      "121/121 [==============================] - 0s 3ms/step - loss: 604.8969 - mae: 19.4202 - mse: 604.8969 - mape: 14.5034 - val_loss: 42.8833 - val_mae: 5.3469 - val_mse: 42.8833 - val_mape: 4.0336\n",
      "Epoch 39/100\n",
      "121/121 [==============================] - 0s 2ms/step - loss: 581.0349 - mae: 19.1391 - mse: 581.0349 - mape: 14.3059 - val_loss: 36.1735 - val_mae: 4.7208 - val_mse: 36.1735 - val_mape: 3.5488\n"
     ]
    },
    {
     "name": "stdout",
     "output_type": "stream",
     "text": [
      "Epoch 40/100\n",
      "121/121 [==============================] - 0s 2ms/step - loss: 569.8740 - mae: 18.8797 - mse: 569.8740 - mape: 14.1277 - val_loss: 33.0747 - val_mae: 4.6627 - val_mse: 33.0747 - val_mape: 3.6114\n",
      "Epoch 41/100\n",
      "121/121 [==============================] - 0s 2ms/step - loss: 566.8154 - mae: 18.6380 - mse: 566.8154 - mape: 13.9220 - val_loss: 31.7223 - val_mae: 4.7900 - val_mse: 31.7223 - val_mape: 3.6375\n",
      "Epoch 42/100\n",
      "121/121 [==============================] - 0s 2ms/step - loss: 563.2296 - mae: 18.6415 - mse: 563.2296 - mape: 13.9342 - val_loss: 24.8551 - val_mae: 4.1372 - val_mse: 24.8551 - val_mape: 3.1525\n",
      "Epoch 43/100\n",
      "121/121 [==============================] - 0s 3ms/step - loss: 541.0209 - mae: 18.3150 - mse: 541.0209 - mape: 13.6873 - val_loss: 23.6462 - val_mae: 4.0905 - val_mse: 23.6462 - val_mape: 3.0948\n",
      "Epoch 44/100\n",
      "121/121 [==============================] - 0s 2ms/step - loss: 548.6733 - mae: 18.4819 - mse: 548.6733 - mape: 13.7976 - val_loss: 25.5500 - val_mae: 4.4897 - val_mse: 25.5500 - val_mape: 3.3983\n",
      "Epoch 45/100\n",
      "121/121 [==============================] - 0s 3ms/step - loss: 539.4288 - mae: 18.2916 - mse: 539.4288 - mape: 13.6551 - val_loss: 29.6412 - val_mae: 4.9158 - val_mse: 29.6412 - val_mape: 3.6882\n",
      "Epoch 46/100\n",
      "121/121 [==============================] - 0s 3ms/step - loss: 536.9883 - mae: 18.2052 - mse: 536.9883 - mape: 13.5754 - val_loss: 21.3153 - val_mae: 4.1531 - val_mse: 21.3153 - val_mape: 3.1044\n",
      "Epoch 47/100\n",
      "121/121 [==============================] - 0s 2ms/step - loss: 534.8276 - mae: 18.1708 - mse: 534.8276 - mape: 13.5306 - val_loss: 20.2654 - val_mae: 4.1440 - val_mse: 20.2654 - val_mape: 3.1300\n",
      "Epoch 48/100\n",
      "121/121 [==============================] - 0s 2ms/step - loss: 521.7000 - mae: 17.9280 - mse: 521.7000 - mape: 13.3628 - val_loss: 13.1656 - val_mae: 3.1821 - val_mse: 13.1656 - val_mape: 2.4244\n",
      "Epoch 49/100\n",
      "121/121 [==============================] - 0s 2ms/step - loss: 514.5356 - mae: 17.8415 - mse: 514.5356 - mape: 13.2885 - val_loss: 22.9707 - val_mae: 4.3622 - val_mse: 22.9707 - val_mape: 3.1840\n",
      "Epoch 50/100\n",
      "121/121 [==============================] - 0s 2ms/step - loss: 522.8046 - mae: 17.8366 - mse: 522.8046 - mape: 13.2749 - val_loss: 17.9676 - val_mae: 3.9113 - val_mse: 17.9676 - val_mape: 2.9105\n",
      "Epoch 51/100\n",
      "121/121 [==============================] - 0s 2ms/step - loss: 491.2911 - mae: 17.4720 - mse: 491.2911 - mape: 13.0243 - val_loss: 20.1536 - val_mae: 4.2144 - val_mse: 20.1536 - val_mape: 3.1262\n",
      "Epoch 52/100\n",
      "121/121 [==============================] - 0s 2ms/step - loss: 496.4312 - mae: 17.4496 - mse: 496.4312 - mape: 12.9859 - val_loss: 15.8636 - val_mae: 3.7029 - val_mse: 15.8636 - val_mape: 2.7865\n",
      "Epoch 53/100\n",
      "121/121 [==============================] - 0s 2ms/step - loss: 500.0576 - mae: 17.5184 - mse: 500.0576 - mape: 13.0450 - val_loss: 17.3380 - val_mae: 3.8081 - val_mse: 17.3380 - val_mape: 2.7941\n",
      "Epoch 54/100\n",
      "121/121 [==============================] - 0s 3ms/step - loss: 502.2912 - mae: 17.6671 - mse: 502.2912 - mape: 13.1574 - val_loss: 18.1649 - val_mae: 3.9554 - val_mse: 18.1649 - val_mape: 2.8988\n",
      "Epoch 55/100\n",
      "121/121 [==============================] - 0s 3ms/step - loss: 482.8719 - mae: 17.2922 - mse: 482.8719 - mape: 12.8719 - val_loss: 14.4109 - val_mae: 3.5360 - val_mse: 14.4109 - val_mape: 2.6137\n",
      "Epoch 56/100\n",
      "121/121 [==============================] - 0s 2ms/step - loss: 496.9594 - mae: 17.5614 - mse: 496.9594 - mape: 13.0686 - val_loss: 12.1238 - val_mae: 3.2940 - val_mse: 12.1238 - val_mape: 2.4707\n",
      "Epoch 57/100\n",
      "121/121 [==============================] - 0s 2ms/step - loss: 490.3275 - mae: 17.4421 - mse: 490.3275 - mape: 12.9842 - val_loss: 17.5138 - val_mae: 4.0745 - val_mse: 17.5138 - val_mape: 3.0551\n",
      "Epoch 58/100\n",
      "121/121 [==============================] - 0s 3ms/step - loss: 484.4823 - mae: 17.2654 - mse: 484.4823 - mape: 12.8215 - val_loss: 11.3360 - val_mae: 3.2545 - val_mse: 11.3360 - val_mape: 2.4658\n",
      "Epoch 59/100\n",
      "121/121 [==============================] - 0s 3ms/step - loss: 474.8000 - mae: 17.2280 - mse: 474.8000 - mape: 12.8023 - val_loss: 10.1371 - val_mae: 2.8377 - val_mse: 10.1371 - val_mape: 2.0761\n",
      "Epoch 60/100\n",
      "121/121 [==============================] - 0s 3ms/step - loss: 461.4829 - mae: 17.0074 - mse: 461.4829 - mape: 12.6553 - val_loss: 15.5785 - val_mae: 3.7993 - val_mse: 15.5785 - val_mape: 2.9192\n",
      "Epoch 61/100\n",
      "121/121 [==============================] - 0s 3ms/step - loss: 472.4896 - mae: 17.1463 - mse: 472.4896 - mape: 12.7630 - val_loss: 16.0707 - val_mae: 3.8233 - val_mse: 16.0707 - val_mape: 2.8254\n",
      "Epoch 62/100\n",
      "121/121 [==============================] - 0s 3ms/step - loss: 460.8866 - mae: 17.0824 - mse: 460.8866 - mape: 12.7191 - val_loss: 12.6402 - val_mae: 3.3934 - val_mse: 12.6402 - val_mape: 2.5154\n",
      "Epoch 63/100\n",
      "121/121 [==============================] - 0s 3ms/step - loss: 457.5303 - mae: 16.9087 - mse: 457.5303 - mape: 12.5789 - val_loss: 16.0979 - val_mae: 3.8806 - val_mse: 16.0979 - val_mape: 2.9008\n",
      "Epoch 64/100\n",
      "121/121 [==============================] - 0s 2ms/step - loss: 450.9342 - mae: 16.8360 - mse: 450.9342 - mape: 12.5058 - val_loss: 17.6419 - val_mae: 4.0910 - val_mse: 17.6419 - val_mape: 3.0619\n",
      "Epoch 65/100\n",
      "121/121 [==============================] - 0s 2ms/step - loss: 454.1257 - mae: 16.8951 - mse: 454.1257 - mape: 12.5675 - val_loss: 17.9665 - val_mae: 3.9239 - val_mse: 17.9665 - val_mape: 2.8459\n",
      "Epoch 66/100\n",
      "121/121 [==============================] - 0s 2ms/step - loss: 436.0327 - mae: 16.6906 - mse: 436.0327 - mape: 12.4085 - val_loss: 18.2356 - val_mae: 4.0255 - val_mse: 18.2356 - val_mape: 2.9559\n",
      "Epoch 67/100\n",
      "121/121 [==============================] - 0s 2ms/step - loss: 436.4023 - mae: 16.6483 - mse: 436.4023 - mape: 12.3853 - val_loss: 14.7869 - val_mae: 3.5388 - val_mse: 14.7869 - val_mape: 2.5658\n",
      "Epoch 68/100\n",
      "121/121 [==============================] - 0s 2ms/step - loss: 452.3856 - mae: 16.8447 - mse: 452.3856 - mape: 12.5052 - val_loss: 16.6518 - val_mae: 3.8664 - val_mse: 16.6518 - val_mape: 2.8466\n",
      "Epoch 69/100\n",
      "121/121 [==============================] - 0s 2ms/step - loss: 438.1245 - mae: 16.6412 - mse: 438.1245 - mape: 12.3588 - val_loss: 16.4097 - val_mae: 3.8909 - val_mse: 16.4097 - val_mape: 2.9108\n",
      "Epoch 70/100\n",
      "121/121 [==============================] - 0s 3ms/step - loss: 435.9670 - mae: 16.5654 - mse: 435.9670 - mape: 12.3221 - val_loss: 14.4855 - val_mae: 3.6729 - val_mse: 14.4855 - val_mape: 2.7336\n",
      "Epoch 71/100\n",
      "121/121 [==============================] - 0s 3ms/step - loss: 432.8009 - mae: 16.4949 - mse: 432.8009 - mape: 12.2790 - val_loss: 10.9895 - val_mae: 3.1759 - val_mse: 10.9895 - val_mape: 2.4363\n",
      "Epoch 72/100\n",
      "121/121 [==============================] - 0s 2ms/step - loss: 444.9298 - mae: 16.7424 - mse: 444.9298 - mape: 12.4385 - val_loss: 16.3207 - val_mae: 3.7216 - val_mse: 16.3207 - val_mape: 2.6972\n",
      "Epoch 73/100\n",
      "121/121 [==============================] - 0s 3ms/step - loss: 421.9715 - mae: 16.4026 - mse: 421.9715 - mape: 12.1979 - val_loss: 12.9953 - val_mae: 3.4314 - val_mse: 12.9953 - val_mape: 2.5367\n",
      "Epoch 74/100\n",
      "121/121 [==============================] - 0s 2ms/step - loss: 417.3323 - mae: 16.2779 - mse: 417.3323 - mape: 12.1067 - val_loss: 13.2710 - val_mae: 3.4996 - val_mse: 13.2710 - val_mape: 2.5979\n",
      "Epoch 75/100\n",
      "121/121 [==============================] - 0s 3ms/step - loss: 415.1053 - mae: 16.2218 - mse: 415.1053 - mape: 12.0555 - val_loss: 20.0282 - val_mae: 4.2405 - val_mse: 20.0282 - val_mape: 3.1071\n",
      "Epoch 76/100\n",
      "121/121 [==============================] - 0s 3ms/step - loss: 421.2920 - mae: 16.3356 - mse: 421.2920 - mape: 12.1330 - val_loss: 16.9749 - val_mae: 4.0063 - val_mse: 16.9749 - val_mape: 3.0381\n",
      "Epoch 77/100\n",
      "121/121 [==============================] - 0s 2ms/step - loss: 413.2711 - mae: 16.2635 - mse: 413.2711 - mape: 12.0983 - val_loss: 7.5308 - val_mae: 2.5773 - val_mse: 7.5308 - val_mape: 1.9615\n",
      "Epoch 78/100\n",
      "121/121 [==============================] - 0s 3ms/step - loss: 419.4737 - mae: 16.3122 - mse: 419.4737 - mape: 12.1266 - val_loss: 12.3439 - val_mae: 3.4047 - val_mse: 12.3439 - val_mape: 2.5618\n",
      "Epoch 79/100\n"
     ]
    },
    {
     "name": "stdout",
     "output_type": "stream",
     "text": [
      "121/121 [==============================] - 0s 3ms/step - loss: 407.6932 - mae: 16.1242 - mse: 407.6932 - mape: 11.9827 - val_loss: 11.4243 - val_mae: 3.2406 - val_mse: 11.4243 - val_mape: 2.4127\n",
      "Epoch 80/100\n",
      "121/121 [==============================] - 0s 3ms/step - loss: 407.6212 - mae: 16.0669 - mse: 407.6212 - mape: 11.9360 - val_loss: 10.7186 - val_mae: 3.0808 - val_mse: 10.7186 - val_mape: 2.2612\n",
      "Epoch 81/100\n",
      "121/121 [==============================] - 0s 3ms/step - loss: 405.0458 - mae: 16.0263 - mse: 405.0458 - mape: 11.9174 - val_loss: 11.2262 - val_mae: 3.2471 - val_mse: 11.2262 - val_mape: 2.4583\n",
      "Epoch 82/100\n",
      "121/121 [==============================] - 0s 2ms/step - loss: 404.8956 - mae: 16.0079 - mse: 404.8956 - mape: 11.8872 - val_loss: 7.4658 - val_mae: 2.5790 - val_mse: 7.4658 - val_mape: 1.9066\n",
      "Epoch 83/100\n",
      "121/121 [==============================] - 0s 2ms/step - loss: 391.6028 - mae: 15.8398 - mse: 391.6028 - mape: 11.7622 - val_loss: 8.6820 - val_mae: 2.8113 - val_mse: 8.6820 - val_mape: 2.1310\n",
      "Epoch 84/100\n",
      "121/121 [==============================] - 0s 2ms/step - loss: 409.1982 - mae: 15.9880 - mse: 409.1982 - mape: 11.8578 - val_loss: 7.4922 - val_mae: 2.5948 - val_mse: 7.4922 - val_mape: 1.9356\n",
      "Epoch 85/100\n",
      "121/121 [==============================] - 0s 3ms/step - loss: 393.2978 - mae: 15.8489 - mse: 393.2978 - mape: 11.7734 - val_loss: 8.9351 - val_mae: 2.8293 - val_mse: 8.9351 - val_mape: 2.0860\n",
      "Epoch 86/100\n",
      "121/121 [==============================] - 0s 3ms/step - loss: 392.2458 - mae: 15.9261 - mse: 392.2458 - mape: 11.8387 - val_loss: 9.1290 - val_mae: 2.8433 - val_mse: 9.1290 - val_mape: 2.0959\n",
      "Epoch 87/100\n",
      "121/121 [==============================] - 0s 2ms/step - loss: 385.5677 - mae: 15.6001 - mse: 385.5677 - mape: 11.5969 - val_loss: 10.7659 - val_mae: 3.1669 - val_mse: 10.7659 - val_mape: 2.3694\n",
      "Epoch 88/100\n",
      "121/121 [==============================] - 0s 2ms/step - loss: 375.7517 - mae: 15.4964 - mse: 375.7517 - mape: 11.5284 - val_loss: 15.5989 - val_mae: 3.7673 - val_mse: 15.5989 - val_mape: 2.7735\n",
      "Epoch 89/100\n",
      "121/121 [==============================] - 0s 3ms/step - loss: 387.3696 - mae: 15.5803 - mse: 387.3696 - mape: 11.5702 - val_loss: 13.9738 - val_mae: 3.5887 - val_mse: 13.9738 - val_mape: 2.6568\n",
      "Epoch 90/100\n",
      "121/121 [==============================] - 0s 3ms/step - loss: 369.8365 - mae: 15.4195 - mse: 369.8365 - mape: 11.4633 - val_loss: 8.9447 - val_mae: 2.8626 - val_mse: 8.9447 - val_mape: 2.1508\n",
      "Epoch 91/100\n",
      "121/121 [==============================] - 0s 2ms/step - loss: 362.1385 - mae: 15.2918 - mse: 362.1385 - mape: 11.3830 - val_loss: 10.9094 - val_mae: 3.0492 - val_mse: 10.9094 - val_mape: 2.2441\n",
      "Epoch 92/100\n",
      "121/121 [==============================] - 0s 2ms/step - loss: 378.1544 - mae: 15.4711 - mse: 378.1544 - mape: 11.4832 - val_loss: 9.7348 - val_mae: 2.9394 - val_mse: 9.7348 - val_mape: 2.1675\n",
      "Epoch 93/100\n",
      "121/121 [==============================] - 0s 2ms/step - loss: 373.8291 - mae: 15.3953 - mse: 373.8291 - mape: 11.4561 - val_loss: 11.4154 - val_mae: 3.1111 - val_mse: 11.4154 - val_mape: 2.2587\n",
      "Epoch 94/100\n",
      "121/121 [==============================] - 0s 2ms/step - loss: 371.8067 - mae: 15.3722 - mse: 371.8067 - mape: 11.4230 - val_loss: 7.8051 - val_mae: 2.6409 - val_mse: 7.8051 - val_mape: 1.9887\n",
      "Epoch 95/100\n",
      "121/121 [==============================] - 0s 2ms/step - loss: 366.6720 - mae: 15.3000 - mse: 366.6720 - mape: 11.3826 - val_loss: 11.9526 - val_mae: 3.2175 - val_mse: 11.9526 - val_mape: 2.3432\n",
      "Epoch 96/100\n",
      "121/121 [==============================] - 0s 3ms/step - loss: 360.7420 - mae: 15.2325 - mse: 360.7420 - mape: 11.3266 - val_loss: 11.2849 - val_mae: 3.2272 - val_mse: 11.2849 - val_mape: 2.3912\n",
      "Epoch 97/100\n",
      "121/121 [==============================] - 0s 2ms/step - loss: 357.9800 - mae: 15.2076 - mse: 357.9800 - mape: 11.3096 - val_loss: 11.2200 - val_mae: 3.0179 - val_mse: 11.2200 - val_mape: 2.1757\n",
      "Epoch 98/100\n",
      "121/121 [==============================] - 0s 3ms/step - loss: 360.5370 - mae: 15.1761 - mse: 360.5370 - mape: 11.2740 - val_loss: 10.0897 - val_mae: 2.8701 - val_mse: 10.0897 - val_mape: 2.0786\n",
      "Epoch 99/100\n",
      "121/121 [==============================] - 0s 2ms/step - loss: 356.7704 - mae: 15.0496 - mse: 356.7704 - mape: 11.1844 - val_loss: 12.2547 - val_mae: 3.3728 - val_mse: 12.2547 - val_mape: 2.5112\n",
      "Epoch 100/100\n",
      "121/121 [==============================] - 0s 3ms/step - loss: 363.1103 - mae: 15.2204 - mse: 363.1103 - mape: 11.3039 - val_loss: 7.7887 - val_mae: 2.6705 - val_mse: 7.7887 - val_mape: 1.9938\n",
      "94/94 [==============================] - 0s 2ms/step - loss: 7.6938 - mae: 2.6576 - mse: 7.6938 - mape: 1.9814\n"
     ]
    }
   ],
   "source": [
    "history = model.fit(X_train, y_train, epochs=100, batch_size=100,validation_data=(X_val, y_val))\n",
    "test_loss = model.evaluate(X_test,y_test)"
   ]
  },
  {
   "cell_type": "code",
   "execution_count": 38,
   "id": "4bb63b24",
   "metadata": {},
   "outputs": [
    {
     "name": "stdout",
     "output_type": "stream",
     "text": [
      "94/94 [==============================] - 0s 2ms/step - loss: 7.6938 - mae: 2.6576 - mse: 7.6938 - mape: 1.9814\n"
     ]
    }
   ],
   "source": [
    "test_loss = model.evaluate(X_test,y_test)"
   ]
  },
  {
   "cell_type": "code",
   "execution_count": 33,
   "id": "8e58dd68",
   "metadata": {},
   "outputs": [],
   "source": [
    "loss = history.history['loss']\n",
    "acc = history.history['mae']\n",
    "val_loss = history.history['val_loss']\n",
    "val_acc = history.history['val_mae']"
   ]
  },
  {
   "cell_type": "code",
   "execution_count": 34,
   "id": "1a360cae",
   "metadata": {},
   "outputs": [
    {
     "data": {
      "image/png": "[encoded data removed]",
      "text/plain": [
       "<Figure size 432x288 with 1 Axes>"
      ]
     },
     "metadata": {
      "needs_background": "light"
     },
     "output_type": "display_data"
    }
   ],
   "source": [
    "plt.plot(history.history['loss'])\n",
    "plt.plot(history.history['val_loss'])\n",
    "plt.title('model loss')\n",
    "plt.ylabel('loss')\n",
    "plt.xlabel('epoch')\n",
    "plt.legend(['train', 'validation'], loc='upper left')\n",
    "plt.show()"
   ]
  },
  {
   "cell_type": "code",
   "execution_count": 35,
   "id": "c067fb02",
   "metadata": {},
   "outputs": [],
   "source": [
    "y_pred = model.predict(X_test)"
   ]
  },
  {
   "cell_type": "code",
   "execution_count": 36,
   "id": "b95c0385",
   "metadata": {},
   "outputs": [
    {
     "data": {
      "text/plain": [
       "array([[108.91915],\n",
       "       [162.88358],\n",
       "       [109.24093],\n",
       "       ...,\n",
       "       [140.22862],\n",
       "       [129.75555],\n",
       "       [114.09496]], dtype=float32)"
      ]
     },
     "execution_count": 36,
     "metadata": {},
     "output_type": "execute_result"
    }
   ],
   "source": [
    "y_pred"
   ]
  },
  {
   "cell_type": "code",
   "execution_count": 37,
   "id": "dd14700c",
   "metadata": {},
   "outputs": [
    {
     "data": {
      "image/png": "[encoded data removed]",
      "text/plain": [
       "<Figure size 432x288 with 1 Axes>"
      ]
     },
     "metadata": {
      "needs_background": "light"
     },
     "output_type": "display_data"
    }
   ],
   "source": [
    "plt.plot(y_test, color = 'red', label = 'Real data')\n",
    "plt.plot(y_pred, color = 'blue', label = 'Predicted data')\n",
    "plt.title('Prediction')\n",
    "plt.legend()\n",
    "plt.show()"
   ]
  },
  {
   "cell_type": "code",
   "execution_count": null,
   "id": "f29f6b94",
   "metadata": {},
   "outputs": [],
   "source": []
  }
 ],
 "metadata": {
  "kernelspec": {
   "display_name": "Python 3",
   "language": "python",
   "name": "python3"
  },
  "language_info": {
   "codemirror_mode": {
    "name": "ipython",
    "version": 3
   },
   "file_extension": ".py",
   "mimetype": "text/x-python",
   "name": "python",
   "nbconvert_exporter": "python",
   "pygments_lexer": "ipython3",
   "version": "3.8.8"
  }
 },
 "nbformat": 4,
 "nbformat_minor": 5
}
